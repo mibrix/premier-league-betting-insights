{
 "cells": [
  {
   "cell_type": "code",
   "execution_count": 3,
   "id": "2ffc35a1",
   "metadata": {},
   "outputs": [],
   "source": [
    "import pandas as pd"
   ]
  },
  {
   "cell_type": "code",
   "execution_count": 7,
   "id": "2d1fb8f0",
   "metadata": {},
   "outputs": [],
   "source": [
    "df = pd.read_csv('bets.csv')\n",
    "\n",
    "#DF preprocessing\n",
    "df = df.astype({'Odd': 'float'})\n",
    "new_row = pd.DataFrame({'Date': ['12.8. (so)'], 'Odd': [1.25], 'Match-up': ['Brighton - Luton Town'], 'Win/Loss':['Win']})\n",
    "df = pd.concat([df, new_row], ignore_index=True)"
   ]
  },
  {
   "cell_type": "code",
   "execution_count": 8,
   "id": "a17fa2d9",
   "metadata": {},
   "outputs": [
    {
     "data": {
      "text/html": [
       "<div>\n",
       "<style scoped>\n",
       "    .dataframe tbody tr th:only-of-type {\n",
       "        vertical-align: middle;\n",
       "    }\n",
       "\n",
       "    .dataframe tbody tr th {\n",
       "        vertical-align: top;\n",
       "    }\n",
       "\n",
       "    .dataframe thead th {\n",
       "        text-align: right;\n",
       "    }\n",
       "</style>\n",
       "<table border=\"1\" class=\"dataframe\">\n",
       "  <thead>\n",
       "    <tr style=\"text-align: right;\">\n",
       "      <th></th>\n",
       "      <th>Date</th>\n",
       "      <th>Match-up</th>\n",
       "      <th>Odd</th>\n",
       "      <th>Win/Loss</th>\n",
       "    </tr>\n",
       "  </thead>\n",
       "  <tbody>\n",
       "    <tr>\n",
       "      <th>0</th>\n",
       "      <td>13. 5. (po)</td>\n",
       "      <td>Luton Town - Fulham</td>\n",
       "      <td>2.33</td>\n",
       "      <td>Win</td>\n",
       "    </tr>\n",
       "    <tr>\n",
       "      <th>1</th>\n",
       "      <td>3. 5. (pi)</td>\n",
       "      <td>West Ham - Luton Town</td>\n",
       "      <td>1.67</td>\n",
       "      <td>Win</td>\n",
       "    </tr>\n",
       "    <tr>\n",
       "      <th>2</th>\n",
       "      <td>29. 4. (po)</td>\n",
       "      <td>Luton Town - Everton</td>\n",
       "      <td>2.59</td>\n",
       "      <td>Loss</td>\n",
       "    </tr>\n",
       "    <tr>\n",
       "      <th>3</th>\n",
       "      <td>21. 4. (ne)</td>\n",
       "      <td>Wolverhampton - Luton Town</td>\n",
       "      <td>2.03</td>\n",
       "      <td>Win</td>\n",
       "    </tr>\n",
       "    <tr>\n",
       "      <th>4</th>\n",
       "      <td>13. 4. (so)</td>\n",
       "      <td>Luton Town - Brentford</td>\n",
       "      <td>2.21</td>\n",
       "      <td>Win</td>\n",
       "    </tr>\n",
       "  </tbody>\n",
       "</table>\n",
       "</div>"
      ],
      "text/plain": [
       "          Date                    Match-up   Odd Win/Loss\n",
       "0  13. 5. (po)         Luton Town - Fulham  2.33      Win\n",
       "1   3. 5. (pi)       West Ham - Luton Town  1.67      Win\n",
       "2  29. 4. (po)        Luton Town - Everton  2.59     Loss\n",
       "3  21. 4. (ne)  Wolverhampton - Luton Town  2.03      Win\n",
       "4  13. 4. (so)      Luton Town - Brentford  2.21      Win"
      ]
     },
     "metadata": {},
     "output_type": "display_data"
    },
    {
     "data": {
      "text/plain": [
       "(39, 4)"
      ]
     },
     "metadata": {},
     "output_type": "display_data"
    }
   ],
   "source": [
    "display(df.head())\n",
    "display(df.shape)"
   ]
  },
  {
   "cell_type": "code",
   "execution_count": null,
   "id": "ecc01d6d",
   "metadata": {},
   "outputs": [
    {
     "data": {
      "text/plain": [
       "Win/Loss\n",
       "Loss                            14\n",
       "Returned Stake (no win/loss)     1\n",
       "Win                             24\n",
       "dtype: int64"
      ]
     },
     "execution_count": 28,
     "metadata": {},
     "output_type": "execute_result"
    }
   ],
   "source": [
    "# Given the bet strategy of betting on a Lutons's loss, how many bets were won and lost?\n",
    "df.groupby('Win/Loss').size()"
   ]
  },
  {
   "cell_type": "code",
   "execution_count": 10,
   "id": "8aa5d0a0",
   "metadata": {},
   "outputs": [
    {
     "name": "stdout",
     "output_type": "stream",
     "text": [
      "Final profit: 161.99999999999997%\n"
     ]
    }
   ],
   "source": [
    "# Calculating profit based on the betting strategy\n",
    "stake = 1\n",
    "profit = 0\n",
    "for i in df.iterrows():\n",
    "    if i[1]['Win/Loss'] == 'Win':\n",
    "        profit += i[1]['Odd'] * stake - stake\n",
    "    else:\n",
    "        profit -= stake\n",
    "\n",
    "print(f\"Final profit: {profit *100}%\")"
   ]
  }
 ],
 "metadata": {
  "kernelspec": {
   "display_name": "Python 3",
   "language": "python",
   "name": "python3"
  },
  "language_info": {
   "codemirror_mode": {
    "name": "ipython",
    "version": 3
   },
   "file_extension": ".py",
   "mimetype": "text/x-python",
   "name": "python",
   "nbconvert_exporter": "python",
   "pygments_lexer": "ipython3",
   "version": "3.12.3"
  }
 },
 "nbformat": 4,
 "nbformat_minor": 5
}
